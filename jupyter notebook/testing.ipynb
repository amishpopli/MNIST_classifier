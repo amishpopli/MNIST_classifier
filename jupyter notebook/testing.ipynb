{
 "cells": [
  {
   "cell_type": "code",
   "execution_count": 1,
   "metadata": {},
   "outputs": [],
   "source": [
    "from sklearn.datasets import fetch_openml\n",
    "mnist = fetch_openml('mnist_784', version=1)\n",
    "data, target = mnist[\"data\"], mnist[\"target\"]"
   ]
  },
  {
   "cell_type": "code",
   "execution_count": 27,
   "metadata": {},
   "outputs": [],
   "source": [
    "import numpy as np"
   ]
  },
  {
   "cell_type": "code",
   "execution_count": 16,
   "metadata": {},
   "outputs": [
    {
     "data": {
      "text/plain": [
       "<matplotlib.image.AxesImage at 0x7fcc71005760>"
      ]
     },
     "execution_count": 16,
     "metadata": {},
     "output_type": "execute_result"
    },
    {
     "data": {
      "image/png": "[encoded data removed]",
      "text/plain": [
       "<Figure size 432x288 with 1 Axes>"
      ]
     },
     "metadata": {
      "needs_background": "light"
     },
     "output_type": "display_data"
    }
   ],
   "source": [
    "import matplotlib.pyplot as plt\n",
    "pixels = data[0]\n",
    "pixels = pixels.reshape(28,28)\n",
    "plt.imshow(pixels)"
   ]
  },
  {
   "cell_type": "code",
   "execution_count": 44,
   "metadata": {},
   "outputs": [],
   "source": [
    "def augment(data,target):\n",
    "    aug_data = [_ for _ in data]\n",
    "    aug_target = [_ for _ in target]\n",
    "\n",
    "    for dx,dy in ((0,5),(0,-5),(5,0),(-5,0)):\n",
    "        for x,y in zip(data,target):\n",
    "            shifted_img = shift(x.reshape((28, 28)),[dx,dy],mode='constant', cval=0)\n",
    "            aug_data.append(shifted_img.reshape(-1))\n",
    "            aug_target.append(y)\n",
    "\n",
    "    aug_data = np.array(aug_data)\n",
    "    aug_target = np.array(aug_target)\n",
    "    return aug_data, aug_target"
   ]
  },
  {
   "cell_type": "code",
   "execution_count": 45,
   "metadata": {},
   "outputs": [],
   "source": [
    "train_x,test_x = augment(train_x,test_x)"
   ]
  },
  {
   "cell_type": "code",
   "execution_count": 42,
   "metadata": {},
   "outputs": [],
   "source": [
    "from sklearn.model_selection import train_test_split\n",
    "\n",
    "train_x, train_y, test_x, test_y = train_test_split(data, target,stratify=target, test_size=0.25)\n"
   ]
  },
  {
   "cell_type": "code",
   "execution_count": 7,
   "metadata": {},
   "outputs": [
    {
     "data": {
      "text/plain": [
       "KNeighborsClassifier(algorithm='auto', leaf_size=30, metric='minkowski',\n",
       "                     metric_params=None, n_jobs=None, n_neighbors=5, p=2,\n",
       "                     weights='uniform')"
      ]
     },
     "execution_count": 7,
     "metadata": {},
     "output_type": "execute_result"
    }
   ],
   "source": [
    "from sklearn.neighbors import KNeighborsClassifier\n",
    "\n",
    "model = KNeighborsClassifier()\n",
    "model.fit(train_x,test_x)"
   ]
  },
  {
   "cell_type": "code",
   "execution_count": 8,
   "metadata": {},
   "outputs": [],
   "source": [
    "predictions = model.predict(train_y)"
   ]
  },
  {
   "cell_type": "code",
   "execution_count": 11,
   "metadata": {},
   "outputs": [
    {
     "data": {
      "text/plain": [
       "0.9706285714285714"
      ]
     },
     "execution_count": 11,
     "metadata": {},
     "output_type": "execute_result"
    }
   ],
   "source": [
    "from sklearn.metrics import accuracy_score\n",
    "from sklearn.model_selection import GridSearchCV\n",
    "accuracy_score(test_y,predictions)"
   ]
  },
  {
   "cell_type": "code",
   "execution_count": 13,
   "metadata": {},
   "outputs": [],
   "source": [
    "from scipy.ndimage import shift"
   ]
  },
  {
   "cell_type": "code",
   "execution_count": 15,
   "metadata": {},
   "outputs": [
    {
     "name": "stdout",
     "output_type": "stream",
     "text": [
      "Help on function shift in module scipy.ndimage.interpolation:\n",
      "\n",
      "shift(input, shift, output=None, order=3, mode='constant', cval=0.0, prefilter=True)\n",
      "    Shift an array.\n",
      "    \n",
      "    The array is shifted using spline interpolation of the requested order.\n",
      "    Points outside the boundaries of the input are filled according to the\n",
      "    given mode.\n",
      "    \n",
      "    Parameters\n",
      "    ----------\n",
      "    input : array_like\n",
      "        The input array.\n",
      "    shift : float or sequence\n",
      "        The shift along the axes. If a float, `shift` is the same for each\n",
      "        axis. If a sequence, `shift` should contain one value for each axis.\n",
      "    output : array or dtype, optional\n",
      "        The array in which to place the output, or the dtype of the\n",
      "        returned array. By default an array of the same dtype as input\n",
      "        will be created.\n",
      "    order : int, optional\n",
      "        The order of the spline interpolation, default is 3.\n",
      "        The order has to be in the range 0-5.\n",
      "    mode : {'reflect', 'constant', 'nearest', 'mirror', 'wrap'}, optional\n",
      "        The `mode` parameter determines how the input array is extended\n",
      "        beyond its boundaries. Default is 'constant'. Behavior for each valid\n",
      "        value is as follows:\n",
      "    \n",
      "        'reflect' (`d c b a | a b c d | d c b a`)\n",
      "            The input is extended by reflecting about the edge of the last\n",
      "            pixel.\n",
      "    \n",
      "        'constant' (`k k k k | a b c d | k k k k`)\n",
      "            The input is extended by filling all values beyond the edge with\n",
      "            the same constant value, defined by the `cval` parameter.\n",
      "    \n",
      "        'nearest' (`a a a a | a b c d | d d d d`)\n",
      "            The input is extended by replicating the last pixel.\n",
      "    \n",
      "        'mirror' (`d c b | a b c d | c b a`)\n",
      "            The input is extended by reflecting about the center of the last\n",
      "            pixel.\n",
      "    \n",
      "        'wrap' (`a b c d | a b c d | a b c d`)\n",
      "            The input is extended by wrapping around to the opposite edge.\n",
      "    cval : scalar, optional\n",
      "        Value to fill past edges of input if `mode` is 'constant'. Default\n",
      "        is 0.0.\n",
      "    prefilter : bool, optional\n",
      "        Determines if the input array is prefiltered with `spline_filter`\n",
      "        before interpolation. The default is True, which will create a\n",
      "        temporary `float64` array of filtered values if `order > 1`. If\n",
      "        setting this to False, the output will be slightly blurred if\n",
      "        `order > 1`, unless the input is prefiltered, i.e. it is the result\n",
      "        of calling `spline_filter` on the original input.\n",
      "    \n",
      "    Returns\n",
      "    -------\n",
      "    shift : ndarray\n",
      "        The shifted input.\n",
      "\n"
     ]
    }
   ],
   "source": [
    "shif"
   ]
  },
  {
   "cell_type": "code",
   "execution_count": null,
   "metadata": {},
   "outputs": [],
   "source": []
  }
 ],
 "metadata": {
  "kernelspec": {
   "display_name": "Python 3",
   "language": "python",
   "name": "python3"
  },
  "language_info": {
   "codemirror_mode": {
    "name": "ipython",
    "version": 3
   },
   "file_extension": ".py",
   "mimetype": "text/x-python",
   "name": "python",
   "nbconvert_exporter": "python",
   "pygments_lexer": "ipython3",
   "version": "3.8.2"
  }
 },
 "nbformat": 4,
 "nbformat_minor": 4
}
